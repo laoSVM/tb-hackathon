{
 "cells": [
  {
   "cell_type": "code",
   "execution_count": 1,
   "metadata": {},
   "outputs": [],
   "source": [
    "import os\n",
    "import pandas as pd\n",
    "import numpy as np\n",
    "from datetime import datetime, timedelta\n",
    "import time\n",
    "import math\n",
    "import matplotlib.pyplot as plt"
   ]
  },
  {
   "cell_type": "code",
   "execution_count": 2,
   "metadata": {},
   "outputs": [
    {
     "data": {
      "text/html": [
       "<div>\n",
       "<style scoped>\n",
       "    .dataframe tbody tr th:only-of-type {\n",
       "        vertical-align: middle;\n",
       "    }\n",
       "\n",
       "    .dataframe tbody tr th {\n",
       "        vertical-align: top;\n",
       "    }\n",
       "\n",
       "    .dataframe thead th {\n",
       "        text-align: right;\n",
       "    }\n",
       "</style>\n",
       "<table border=\"1\" class=\"dataframe\">\n",
       "  <thead>\n",
       "    <tr style=\"text-align: right;\">\n",
       "      <th></th>\n",
       "      <th>mean_price</th>\n",
       "      <th>min_price</th>\n",
       "      <th>max_price</th>\n",
       "    </tr>\n",
       "  </thead>\n",
       "  <tbody>\n",
       "    <tr>\n",
       "      <th>2017-12-31 19:00:00</th>\n",
       "      <td>739.337923</td>\n",
       "      <td>732.264535</td>\n",
       "      <td>746.00</td>\n",
       "    </tr>\n",
       "    <tr>\n",
       "      <th>2017-12-31 19:10:00</th>\n",
       "      <td>737.486161</td>\n",
       "      <td>729.949027</td>\n",
       "      <td>745.32</td>\n",
       "    </tr>\n",
       "    <tr>\n",
       "      <th>2017-12-31 19:20:00</th>\n",
       "      <td>736.453282</td>\n",
       "      <td>727.042308</td>\n",
       "      <td>744.16</td>\n",
       "    </tr>\n",
       "    <tr>\n",
       "      <th>2017-12-31 19:30:00</th>\n",
       "      <td>735.683226</td>\n",
       "      <td>728.656970</td>\n",
       "      <td>742.94</td>\n",
       "    </tr>\n",
       "    <tr>\n",
       "      <th>2017-12-31 19:40:00</th>\n",
       "      <td>734.582817</td>\n",
       "      <td>728.689437</td>\n",
       "      <td>739.08</td>\n",
       "    </tr>\n",
       "  </tbody>\n",
       "</table>\n",
       "</div>"
      ],
      "text/plain": [
       "                     mean_price   min_price  max_price\n",
       "2017-12-31 19:00:00  739.337923  732.264535     746.00\n",
       "2017-12-31 19:10:00  737.486161  729.949027     745.32\n",
       "2017-12-31 19:20:00  736.453282  727.042308     744.16\n",
       "2017-12-31 19:30:00  735.683226  728.656970     742.94\n",
       "2017-12-31 19:40:00  734.582817  728.689437     739.08"
      ]
     },
     "execution_count": 2,
     "metadata": {},
     "output_type": "execute_result"
    }
   ],
   "source": [
    "# Read data\n",
    "df = pd.read_csv('.\\eth_2018_price_10T.csv',index_col=0)\n",
    "df.head()"
   ]
  },
  {
   "cell_type": "code",
   "execution_count": 3,
   "metadata": {},
   "outputs": [
    {
     "data": {
      "text/plain": [
       "[9978, 9979, 9980, 9981, 9982, 9983]"
      ]
     },
     "execution_count": 3,
     "metadata": {},
     "output_type": "execute_result"
    }
   ],
   "source": [
    "# There are some rows that will cause error\n",
    "error_value = np.unique(np.where(np.isfinite(df)==0)[0]).tolist()\n",
    "error_value"
   ]
  },
  {
   "cell_type": "code",
   "execution_count": 4,
   "metadata": {},
   "outputs": [],
   "source": [
    "# Drop the error rows\n",
    "df.drop(df.iloc[error_value].index, axis = 0, inplace = True)"
   ]
  },
  {
   "cell_type": "markdown",
   "metadata": {},
   "source": [
    "# initialize params"
   ]
  },
  {
   "cell_type": "code",
   "execution_count": 5,
   "metadata": {},
   "outputs": [],
   "source": [
    "N = 18 # batch size used to build model\n",
    "M = 600 # timespan we use to train the model\n",
    "score_threshold = 0.7 # rsrs threshold\n",
    "# Parameters used to calculate moving average\n",
    "mean_day = 20 # timespan to calculate the most recent close price\n",
    "mean_diff_day = 3 # time difference to calculate the before close price\n"
   ]
  },
  {
   "cell_type": "code",
   "execution_count": 6,
   "metadata": {},
   "outputs": [
    {
     "data": {
      "text/html": [
       "<div>\n",
       "<style scoped>\n",
       "    .dataframe tbody tr th:only-of-type {\n",
       "        vertical-align: middle;\n",
       "    }\n",
       "\n",
       "    .dataframe tbody tr th {\n",
       "        vertical-align: top;\n",
       "    }\n",
       "\n",
       "    .dataframe thead th {\n",
       "        text-align: right;\n",
       "    }\n",
       "</style>\n",
       "<table border=\"1\" class=\"dataframe\">\n",
       "  <thead>\n",
       "    <tr style=\"text-align: right;\">\n",
       "      <th></th>\n",
       "      <th>mean_price</th>\n",
       "      <th>min_price</th>\n",
       "      <th>max_price</th>\n",
       "    </tr>\n",
       "  </thead>\n",
       "  <tbody>\n",
       "    <tr>\n",
       "      <th>2017-12-31 19:00:00</th>\n",
       "      <td>739.337923</td>\n",
       "      <td>732.264535</td>\n",
       "      <td>746.000000</td>\n",
       "    </tr>\n",
       "    <tr>\n",
       "      <th>2017-12-31 19:10:00</th>\n",
       "      <td>737.486161</td>\n",
       "      <td>729.949027</td>\n",
       "      <td>745.320000</td>\n",
       "    </tr>\n",
       "    <tr>\n",
       "      <th>2017-12-31 19:20:00</th>\n",
       "      <td>736.453282</td>\n",
       "      <td>727.042308</td>\n",
       "      <td>744.160000</td>\n",
       "    </tr>\n",
       "    <tr>\n",
       "      <th>2017-12-31 19:30:00</th>\n",
       "      <td>735.683226</td>\n",
       "      <td>728.656970</td>\n",
       "      <td>742.940000</td>\n",
       "    </tr>\n",
       "    <tr>\n",
       "      <th>2017-12-31 19:40:00</th>\n",
       "      <td>734.582817</td>\n",
       "      <td>728.689437</td>\n",
       "      <td>739.080000</td>\n",
       "    </tr>\n",
       "    <tr>\n",
       "      <th>...</th>\n",
       "      <td>...</td>\n",
       "      <td>...</td>\n",
       "      <td>...</td>\n",
       "    </tr>\n",
       "    <tr>\n",
       "      <th>2018-01-05 01:10:00</th>\n",
       "      <td>995.418574</td>\n",
       "      <td>980.490000</td>\n",
       "      <td>1004.043402</td>\n",
       "    </tr>\n",
       "    <tr>\n",
       "      <th>2018-01-05 01:20:00</th>\n",
       "      <td>999.516768</td>\n",
       "      <td>986.606473</td>\n",
       "      <td>1013.863225</td>\n",
       "    </tr>\n",
       "    <tr>\n",
       "      <th>2018-01-05 01:30:00</th>\n",
       "      <td>1002.937961</td>\n",
       "      <td>991.929847</td>\n",
       "      <td>1016.107908</td>\n",
       "    </tr>\n",
       "    <tr>\n",
       "      <th>2018-01-05 01:40:00</th>\n",
       "      <td>1003.522279</td>\n",
       "      <td>991.720005</td>\n",
       "      <td>1020.239278</td>\n",
       "    </tr>\n",
       "    <tr>\n",
       "      <th>2018-01-05 01:50:00</th>\n",
       "      <td>1009.588635</td>\n",
       "      <td>994.266424</td>\n",
       "      <td>1021.200000</td>\n",
       "    </tr>\n",
       "  </tbody>\n",
       "</table>\n",
       "<p>618 rows × 3 columns</p>\n",
       "</div>"
      ],
      "text/plain": [
       "                      mean_price   min_price    max_price\n",
       "2017-12-31 19:00:00   739.337923  732.264535   746.000000\n",
       "2017-12-31 19:10:00   737.486161  729.949027   745.320000\n",
       "2017-12-31 19:20:00   736.453282  727.042308   744.160000\n",
       "2017-12-31 19:30:00   735.683226  728.656970   742.940000\n",
       "2017-12-31 19:40:00   734.582817  728.689437   739.080000\n",
       "...                          ...         ...          ...\n",
       "2018-01-05 01:10:00   995.418574  980.490000  1004.043402\n",
       "2018-01-05 01:20:00   999.516768  986.606473  1013.863225\n",
       "2018-01-05 01:30:00  1002.937961  991.929847  1016.107908\n",
       "2018-01-05 01:40:00  1003.522279  991.720005  1020.239278\n",
       "2018-01-05 01:50:00  1009.588635  994.266424  1021.200000\n",
       "\n",
       "[618 rows x 3 columns]"
      ]
     },
     "execution_count": 6,
     "metadata": {},
     "output_type": "execute_result"
    }
   ],
   "source": [
    "df.iloc[:M+N]"
   ]
  },
  {
   "cell_type": "code",
   "execution_count": 7,
   "metadata": {},
   "outputs": [],
   "source": [
    "# main algorithm\n",
    "def get_ols(x, y):\n",
    "    slope, intercept = np.polyfit(x, y, 1)\n",
    "    r2 = 1 - (sum((y - (slope * x + intercept))**2) / ((len(y) - 1) * np.var(y, ddof=1)))\n",
    "    return (intercept, slope, r2)"
   ]
  },
  {
   "cell_type": "code",
   "execution_count": 8,
   "metadata": {},
   "outputs": [],
   "source": [
    "# Base slope\n",
    "def initial_slope_series(start_time):\n",
    "    start_time = np.where(df.index==start_time)[0][0]\n",
    "    data = df.iloc[start_time-(N + M):start_time]\n",
    "    return [get_ols(data.min_price[i:i+N], data.max_price[i:i+N])[1] for i in range(M)]"
   ]
  },
  {
   "cell_type": "code",
   "execution_count": 9,
   "metadata": {},
   "outputs": [],
   "source": [
    "# Calculate std rsrs score\n",
    "def get_zscore(slope_series):\n",
    "    mean = np.mean(slope_series)\n",
    "    std = np.std(slope_series)\n",
    "    return (slope_series[-1] - mean) / std"
   ]
  },
  {
   "cell_type": "code",
   "execution_count": 10,
   "metadata": {},
   "outputs": [],
   "source": [
    "# pick a day to start\n",
    "start_time = '2018-01-05 02:00:00'"
   ]
  },
  {
   "cell_type": "code",
   "execution_count": 11,
   "metadata": {
    "scrolled": false
   },
   "outputs": [
    {
     "data": {
      "text/plain": [
       "599"
      ]
     },
     "execution_count": 11,
     "metadata": {},
     "output_type": "execute_result"
    }
   ],
   "source": [
    "# leave the last one out to avoid duplication\n",
    "# this is our base slop series\n",
    "slope_series = initial_slope_series(start_time)[:-1]  # we append the slope of start_time in function: get_timing_signal\n",
    "len(slope_series)"
   ]
  },
  {
   "cell_type": "code",
   "execution_count": 12,
   "metadata": {},
   "outputs": [
    {
     "data": {
      "text/plain": [
       "0.8133157629700516"
      ]
     },
     "execution_count": 12,
     "metadata": {},
     "output_type": "execute_result"
    }
   ],
   "source": [
    "get_zscore(slope_series)"
   ]
  },
  {
   "cell_type": "code",
   "execution_count": 13,
   "metadata": {
    "code_folding": []
   },
   "outputs": [],
   "source": [
    "def get_timing_signal(start_time):\n",
    "    start_time = np.where(df.index==start_time)[0][0]\n",
    "    # calculate MA signal\n",
    "    close_data = df.iloc[start_time-(mean_day + mean_diff_day):start_time]\n",
    "    # 23 days，take the last 20 days\n",
    "    today_MA = close_data.mean_price[mean_diff_day:].mean() \n",
    "    # 23 days，take the first 20 days\n",
    "    before_MA = close_data.mean_price[:-mean_diff_day].mean()\n",
    "    # calculate rsrs signal\n",
    "    high_low_data = pd.DataFrame({'low':df.iloc[start_time-N:start_time].min_price.to_list(),\n",
    "                                  'high':df.iloc[start_time-N:start_time].max_price.to_list()})\n",
    "    intercept, slope, r2 = get_ols(high_low_data.low, high_low_data.high)\n",
    "    slope_series.append(slope)\n",
    "\n",
    "    rsrs_score = get_zscore(slope_series[-M:]) * r2\n",
    "    # use signal combo to get final signal\n",
    "    if rsrs_score > score_threshold and today_MA > before_MA:\n",
    "        return \"BUY\"\n",
    "    elif rsrs_score < -score_threshold and today_MA < before_MA:\n",
    "        return \"SELL\"\n",
    "    else:\n",
    "        return \"NEUTRAL\""
   ]
  },
  {
   "cell_type": "code",
   "execution_count": 14,
   "metadata": {},
   "outputs": [
    {
     "data": {
      "text/plain": [
       "'BUY'"
      ]
     },
     "execution_count": 14,
     "metadata": {},
     "output_type": "execute_result"
    }
   ],
   "source": [
    "# test\n",
    "get_timing_signal(start_time)  #'2018-01-05 02:00:00'"
   ]
  },
  {
   "cell_type": "markdown",
   "metadata": {},
   "source": [
    "# Run the model"
   ]
  },
  {
   "cell_type": "code",
   "execution_count": 15,
   "metadata": {},
   "outputs": [],
   "source": [
    "# start_time is the time str when the model starts, we turn it into the location where the time is located in the df\n",
    "def to_iloc(start_time):\n",
    "    return np.where(df.index==start_time)[0][0]"
   ]
  },
  {
   "cell_type": "code",
   "execution_count": 16,
   "metadata": {},
   "outputs": [
    {
     "data": {
      "text/plain": [
       "array(['BUY', 'BUY', 'BUY', ..., 'NEUTRAL', 'NEUTRAL', 'NEUTRAL'],\n",
       "      dtype=object)"
      ]
     },
     "execution_count": 16,
     "metadata": {},
     "output_type": "execute_result"
    }
   ],
   "source": [
    "signal = np.array(df.iloc[to_iloc(start_time):,:].index.map(lambda index:get_timing_signal(index)))\n",
    "signal"
   ]
  },
  {
   "cell_type": "code",
   "execution_count": 17,
   "metadata": {},
   "outputs": [
    {
     "data": {
      "text/html": [
       "<div>\n",
       "<style scoped>\n",
       "    .dataframe tbody tr th:only-of-type {\n",
       "        vertical-align: middle;\n",
       "    }\n",
       "\n",
       "    .dataframe tbody tr th {\n",
       "        vertical-align: top;\n",
       "    }\n",
       "\n",
       "    .dataframe thead th {\n",
       "        text-align: right;\n",
       "    }\n",
       "</style>\n",
       "<table border=\"1\" class=\"dataframe\">\n",
       "  <thead>\n",
       "    <tr style=\"text-align: right;\">\n",
       "      <th></th>\n",
       "      <th>mean_price</th>\n",
       "      <th>min_price</th>\n",
       "      <th>max_price</th>\n",
       "      <th>signal</th>\n",
       "    </tr>\n",
       "  </thead>\n",
       "  <tbody>\n",
       "    <tr>\n",
       "      <th>2018-12-31 18:10:00</th>\n",
       "      <td>132.042912</td>\n",
       "      <td>129.977798</td>\n",
       "      <td>136.44</td>\n",
       "      <td>NEUTRAL</td>\n",
       "    </tr>\n",
       "    <tr>\n",
       "      <th>2018-12-31 18:20:00</th>\n",
       "      <td>131.611979</td>\n",
       "      <td>130.681024</td>\n",
       "      <td>136.35</td>\n",
       "      <td>NEUTRAL</td>\n",
       "    </tr>\n",
       "    <tr>\n",
       "      <th>2018-12-31 18:30:00</th>\n",
       "      <td>131.703035</td>\n",
       "      <td>130.436754</td>\n",
       "      <td>136.35</td>\n",
       "      <td>NEUTRAL</td>\n",
       "    </tr>\n",
       "    <tr>\n",
       "      <th>2018-12-31 18:40:00</th>\n",
       "      <td>131.807298</td>\n",
       "      <td>130.050000</td>\n",
       "      <td>136.40</td>\n",
       "      <td>NEUTRAL</td>\n",
       "    </tr>\n",
       "    <tr>\n",
       "      <th>2018-12-31 18:50:00</th>\n",
       "      <td>131.368238</td>\n",
       "      <td>129.875253</td>\n",
       "      <td>136.00</td>\n",
       "      <td>NEUTRAL</td>\n",
       "    </tr>\n",
       "  </tbody>\n",
       "</table>\n",
       "</div>"
      ],
      "text/plain": [
       "                     mean_price   min_price  max_price   signal\n",
       "2018-12-31 18:10:00  132.042912  129.977798     136.44  NEUTRAL\n",
       "2018-12-31 18:20:00  131.611979  130.681024     136.35  NEUTRAL\n",
       "2018-12-31 18:30:00  131.703035  130.436754     136.35  NEUTRAL\n",
       "2018-12-31 18:40:00  131.807298  130.050000     136.40  NEUTRAL\n",
       "2018-12-31 18:50:00  131.368238  129.875253     136.00  NEUTRAL"
      ]
     },
     "execution_count": 17,
     "metadata": {},
     "output_type": "execute_result"
    }
   ],
   "source": [
    "df = df.join(pd.DataFrame(signal, index=df.iloc[to_iloc(start_time):,:].index,columns = [\"signal\"]))\n",
    "df.tail()"
   ]
  },
  {
   "cell_type": "code",
   "execution_count": 18,
   "metadata": {},
   "outputs": [
    {
     "data": {
      "text/html": [
       "<div>\n",
       "<style scoped>\n",
       "    .dataframe tbody tr th:only-of-type {\n",
       "        vertical-align: middle;\n",
       "    }\n",
       "\n",
       "    .dataframe tbody tr th {\n",
       "        vertical-align: top;\n",
       "    }\n",
       "\n",
       "    .dataframe thead th {\n",
       "        text-align: right;\n",
       "    }\n",
       "</style>\n",
       "<table border=\"1\" class=\"dataframe\">\n",
       "  <thead>\n",
       "    <tr style=\"text-align: right;\">\n",
       "      <th></th>\n",
       "      <th>mean_price</th>\n",
       "      <th>min_price</th>\n",
       "      <th>max_price</th>\n",
       "      <th>signal</th>\n",
       "    </tr>\n",
       "  </thead>\n",
       "  <tbody>\n",
       "    <tr>\n",
       "      <th>2018-01-05 02:00:00</th>\n",
       "      <td>1010.126541</td>\n",
       "      <td>994.220278</td>\n",
       "      <td>1017.354890</td>\n",
       "      <td>BUY</td>\n",
       "    </tr>\n",
       "    <tr>\n",
       "      <th>2018-01-05 02:10:00</th>\n",
       "      <td>1007.836374</td>\n",
       "      <td>991.535325</td>\n",
       "      <td>1016.554638</td>\n",
       "      <td>BUY</td>\n",
       "    </tr>\n",
       "    <tr>\n",
       "      <th>2018-01-05 02:20:00</th>\n",
       "      <td>1003.163752</td>\n",
       "      <td>965.000000</td>\n",
       "      <td>1011.876101</td>\n",
       "      <td>BUY</td>\n",
       "    </tr>\n",
       "    <tr>\n",
       "      <th>2018-01-05 02:30:00</th>\n",
       "      <td>1001.615969</td>\n",
       "      <td>957.800000</td>\n",
       "      <td>1009.417692</td>\n",
       "      <td>NEUTRAL</td>\n",
       "    </tr>\n",
       "    <tr>\n",
       "      <th>2018-01-05 02:40:00</th>\n",
       "      <td>999.320913</td>\n",
       "      <td>985.784573</td>\n",
       "      <td>1006.663222</td>\n",
       "      <td>NEUTRAL</td>\n",
       "    </tr>\n",
       "    <tr>\n",
       "      <th>...</th>\n",
       "      <td>...</td>\n",
       "      <td>...</td>\n",
       "      <td>...</td>\n",
       "      <td>...</td>\n",
       "    </tr>\n",
       "    <tr>\n",
       "      <th>2018-12-31 18:10:00</th>\n",
       "      <td>132.042912</td>\n",
       "      <td>129.977798</td>\n",
       "      <td>136.440000</td>\n",
       "      <td>NEUTRAL</td>\n",
       "    </tr>\n",
       "    <tr>\n",
       "      <th>2018-12-31 18:20:00</th>\n",
       "      <td>131.611979</td>\n",
       "      <td>130.681024</td>\n",
       "      <td>136.350000</td>\n",
       "      <td>NEUTRAL</td>\n",
       "    </tr>\n",
       "    <tr>\n",
       "      <th>2018-12-31 18:30:00</th>\n",
       "      <td>131.703035</td>\n",
       "      <td>130.436754</td>\n",
       "      <td>136.350000</td>\n",
       "      <td>NEUTRAL</td>\n",
       "    </tr>\n",
       "    <tr>\n",
       "      <th>2018-12-31 18:40:00</th>\n",
       "      <td>131.807298</td>\n",
       "      <td>130.050000</td>\n",
       "      <td>136.400000</td>\n",
       "      <td>NEUTRAL</td>\n",
       "    </tr>\n",
       "    <tr>\n",
       "      <th>2018-12-31 18:50:00</th>\n",
       "      <td>131.368238</td>\n",
       "      <td>129.875253</td>\n",
       "      <td>136.000000</td>\n",
       "      <td>NEUTRAL</td>\n",
       "    </tr>\n",
       "  </tbody>\n",
       "</table>\n",
       "<p>51936 rows × 4 columns</p>\n",
       "</div>"
      ],
      "text/plain": [
       "                      mean_price   min_price    max_price   signal\n",
       "2018-01-05 02:00:00  1010.126541  994.220278  1017.354890      BUY\n",
       "2018-01-05 02:10:00  1007.836374  991.535325  1016.554638      BUY\n",
       "2018-01-05 02:20:00  1003.163752  965.000000  1011.876101      BUY\n",
       "2018-01-05 02:30:00  1001.615969  957.800000  1009.417692  NEUTRAL\n",
       "2018-01-05 02:40:00   999.320913  985.784573  1006.663222  NEUTRAL\n",
       "...                          ...         ...          ...      ...\n",
       "2018-12-31 18:10:00   132.042912  129.977798   136.440000  NEUTRAL\n",
       "2018-12-31 18:20:00   131.611979  130.681024   136.350000  NEUTRAL\n",
       "2018-12-31 18:30:00   131.703035  130.436754   136.350000  NEUTRAL\n",
       "2018-12-31 18:40:00   131.807298  130.050000   136.400000  NEUTRAL\n",
       "2018-12-31 18:50:00   131.368238  129.875253   136.000000  NEUTRAL\n",
       "\n",
       "[51936 rows x 4 columns]"
      ]
     },
     "execution_count": 18,
     "metadata": {},
     "output_type": "execute_result"
    }
   ],
   "source": [
    "# View the signals starting from our chosen start_time\n",
    "df.iloc[to_iloc(start_time):,:]"
   ]
  },
  {
   "cell_type": "code",
   "execution_count": 19,
   "metadata": {},
   "outputs": [
    {
     "data": {
      "text/plain": [
       "NEUTRAL    44313\n",
       "BUY         6119\n",
       "SELL        1504\n",
       "Name: signal, dtype: int64"
      ]
     },
     "execution_count": 19,
     "metadata": {},
     "output_type": "execute_result"
    }
   ],
   "source": [
    "df.signal.value_counts()"
   ]
  },
  {
   "cell_type": "code",
   "execution_count": 20,
   "metadata": {},
   "outputs": [
    {
     "name": "stdout",
     "output_type": "stream",
     "text": [
      "<class 'pandas.core.frame.DataFrame'>\n",
      "Index: 52554 entries, 2017-12-31 19:00:00 to 2018-12-31 18:50:00\n",
      "Data columns (total 4 columns):\n",
      " #   Column      Non-Null Count  Dtype  \n",
      "---  ------      --------------  -----  \n",
      " 0   mean_price  52554 non-null  float64\n",
      " 1   min_price   52554 non-null  float64\n",
      " 2   max_price   52554 non-null  float64\n",
      " 3   signal      51936 non-null  object \n",
      "dtypes: float64(3), object(1)\n",
      "memory usage: 4.5+ MB\n"
     ]
    }
   ],
   "source": [
    "df.info()"
   ]
  },
  {
   "cell_type": "code",
   "execution_count": 22,
   "metadata": {},
   "outputs": [],
   "source": [
    "%matplotlib inline"
   ]
  },
  {
   "cell_type": "code",
   "execution_count": 74,
   "metadata": {},
   "outputs": [
    {
     "data": {
      "image/png": "[encoded data removed]",
      "text/plain": [
       "<Figure size 1080x1080 with 1 Axes>"
      ]
     },
     "metadata": {
      "needs_background": "light"
     },
     "output_type": "display_data"
    }
   ],
   "source": [
    "total_time = df.iloc[to_iloc(start_time):,:].index.tolist()\n",
    "fig, ax = plt.subplots()\n",
    "\n",
    "plt.rcParams[\"figure.figsize\"] = (15,15)\n",
    "ax.plot(total_time, df.iloc[to_iloc(start_time):,0], linewidth=4, alpha = 0.5, color='#828282')\n",
    "ax.scatter(df.iloc[np.where(df['signal']=='BUY')[0],0].index.tolist(),df.iloc[np.where(df['signal']=='BUY')[0],0], label = 'BUY', color='#e83015')\n",
    "ax.scatter(df.iloc[np.where(df['signal']=='SELL')[0],0].index.tolist(),df.iloc[np.where(df['signal']=='SELL')[0],0], label = 'SELL', alpha = 0.7, color='#90b44b')\n",
    "\n",
    "plt.legend()\n",
    "xticks=list(range(0,len(total_time),round(len(total_time)/10)))\n",
    "xlabels=[total_time[x] for x in xticks]\n",
    "ax.set_xticks(xticks)\n",
    "ax.set_xticklabels(xlabels, rotation=40)\n",
    "ax.set_ylabel('Price')\n",
    "ax.set_title('Trace of BUY & SELL')\n",
    "plt.show()"
   ]
  }
 ],
 "metadata": {
  "kernelspec": {
   "display_name": "Python 3",
   "language": "python",
   "name": "python3"
  },
  "language_info": {
   "codemirror_mode": {
    "name": "ipython",
    "version": 3
   },
   "file_extension": ".py",
   "mimetype": "text/x-python",
   "name": "python",
   "nbconvert_exporter": "python",
   "pygments_lexer": "ipython3",
   "version": "3.7.6"
  }
 },
 "nbformat": 4,
 "nbformat_minor": 4
}
