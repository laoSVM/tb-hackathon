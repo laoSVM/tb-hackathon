{
 "cells": [
  {
   "cell_type": "code",
   "execution_count": null,
   "metadata": {},
   "outputs": [],
   "source": [
    "# Access the data\n",
    "import os\n",
    "import requests\n",
    "\n",
    "URL_PREFIX = 'https://tb-hackathon-readonly.s3.us-west-2.amazonaws.com/'\n",
    "\n",
    "FILES = [\"eth.usd.2020\"] #, \"xbt.usd.2020\", \"xbt.usd.2018\", \"eth.usd.2018\"]\n",
    "\n",
    "for name in FILES:\n",
    "    url = URL_PREFIX + name\n",
    "    response = requests.get(url)\n",
    "    with open(name + '.csv', 'wb') as f:\n",
    "        f.write(response.content)"
   ]
  },
  {
   "cell_type": "code",
   "execution_count": 88,
   "metadata": {},
   "outputs": [],
   "source": [
    "%matplotlib inline\n",
    "import pandas as pd\n",
    "import numpy as np\n",
    "from datetime import datetime, timedelta\n",
    "import time\n",
    "import math\n",
    "import matplotlib.pyplot as plt"
   ]
  },
  {
   "cell_type": "code",
   "execution_count": 95,
   "metadata": {},
   "outputs": [
    {
     "name": "stdout",
     "output_type": "stream",
     "text": [
      "<class 'pandas.core.frame.DataFrame'>\n",
      "RangeIndex: 96620393 entries, 0 to 96620392\n",
      "Data columns (total 4 columns):\n",
      " #   Column      Dtype  \n",
      "---  ------      -----  \n",
      " 0   pair        object \n",
      " 1   price       float64\n",
      " 2   amount      float64\n",
      " 3   time_stamp  float64\n",
      "dtypes: float64(3), object(1)\n",
      "memory usage: 2.9+ GB\n"
     ]
    }
   ],
   "source": [
    "nrows=None\n",
    "df = pd.read_csv(\"D:\\My_Study\\\\University\\\\Uconn\\MSBAPM Virtual Crypto Hackathon 2022\\coderepo\\eth.usd.2018.csv\",nrows=nrows,names=['pair','price','amount','time_stamp'])\n",
    "df.info()"
   ]
  },
  {
   "cell_type": "code",
   "execution_count": 29,
   "metadata": {},
   "outputs": [
    {
     "data": {
      "text/html": [
       "<div>\n",
       "<style scoped>\n",
       "    .dataframe tbody tr th:only-of-type {\n",
       "        vertical-align: middle;\n",
       "    }\n",
       "\n",
       "    .dataframe tbody tr th {\n",
       "        vertical-align: top;\n",
       "    }\n",
       "\n",
       "    .dataframe thead th {\n",
       "        text-align: right;\n",
       "    }\n",
       "</style>\n",
       "<table border=\"1\" class=\"dataframe\">\n",
       "  <thead>\n",
       "    <tr style=\"text-align: right;\">\n",
       "      <th></th>\n",
       "      <th>pair</th>\n",
       "      <th>price</th>\n",
       "      <th>amount</th>\n",
       "      <th>time_stamp</th>\n",
       "    </tr>\n",
       "  </thead>\n",
       "  <tbody>\n",
       "    <tr>\n",
       "      <th>0</th>\n",
       "      <td>iehx-eth-usd</td>\n",
       "      <td>742.015308</td>\n",
       "      <td>0.296652</td>\n",
       "      <td>1.514765e+09</td>\n",
       "    </tr>\n",
       "    <tr>\n",
       "      <th>1</th>\n",
       "      <td>iehx-eth-usd</td>\n",
       "      <td>742.272462</td>\n",
       "      <td>0.000000</td>\n",
       "      <td>1.514765e+09</td>\n",
       "    </tr>\n",
       "    <tr>\n",
       "      <th>2</th>\n",
       "      <td>vehx-eth-usd</td>\n",
       "      <td>742.037945</td>\n",
       "      <td>0.000000</td>\n",
       "      <td>1.514765e+09</td>\n",
       "    </tr>\n",
       "    <tr>\n",
       "      <th>3</th>\n",
       "      <td>bfnx-eth-usd</td>\n",
       "      <td>736.500000</td>\n",
       "      <td>1.862383</td>\n",
       "      <td>1.514765e+09</td>\n",
       "    </tr>\n",
       "    <tr>\n",
       "      <th>4</th>\n",
       "      <td>stmp-eth-usd</td>\n",
       "      <td>743.500000</td>\n",
       "      <td>10.000000</td>\n",
       "      <td>1.514765e+09</td>\n",
       "    </tr>\n",
       "  </tbody>\n",
       "</table>\n",
       "</div>"
      ],
      "text/plain": [
       "           pair       price     amount    time_stamp\n",
       "0  iehx-eth-usd  742.015308   0.296652  1.514765e+09\n",
       "1  iehx-eth-usd  742.272462   0.000000  1.514765e+09\n",
       "2  vehx-eth-usd  742.037945   0.000000  1.514765e+09\n",
       "3  bfnx-eth-usd  736.500000   1.862383  1.514765e+09\n",
       "4  stmp-eth-usd  743.500000  10.000000  1.514765e+09"
      ]
     },
     "execution_count": 29,
     "metadata": {},
     "output_type": "execute_result"
    }
   ],
   "source": [
    "df.head()"
   ]
  },
  {
   "cell_type": "code",
   "execution_count": 24,
   "metadata": {},
   "outputs": [
    {
     "data": {
      "text/plain": [
       "iehx-eth-usd    12270\n",
       "base-eth-usd     6580\n",
       "bfnx-eth-usd     5559\n",
       "vehx-eth-usd     2358\n",
       "krkn-eth-usd     1372\n",
       "gmni-eth-usd     1091\n",
       "stmp-eth-usd      770\n",
       "Name: pair, dtype: int64"
      ]
     },
     "execution_count": 24,
     "metadata": {},
     "output_type": "execute_result"
    }
   ],
   "source": [
    "df.pair.value_counts()"
   ]
  },
  {
   "cell_type": "code",
   "execution_count": 99,
   "metadata": {
    "scrolled": true
   },
   "outputs": [
    {
     "name": "stdout",
     "output_type": "stream",
     "text": [
      "<class 'pandas.core.frame.DataFrame'>\n",
      "RangeIndex: 96620393 entries, 0 to 96620392\n",
      "Data columns (total 4 columns):\n",
      " #   Column      Dtype         \n",
      "---  ------      -----         \n",
      " 0   pair        object        \n",
      " 1   price       float64       \n",
      " 2   amount      float64       \n",
      " 3   time_stamp  datetime64[ns]\n",
      "dtypes: datetime64[ns](1), float64(2), object(1)\n",
      "memory usage: 2.9+ GB\n"
     ]
    }
   ],
   "source": [
    "df.info()"
   ]
  },
  {
   "cell_type": "code",
   "execution_count": 97,
   "metadata": {},
   "outputs": [
    {
     "ename": "TypeError",
     "evalue": "an integer is required (got type Timestamp)",
     "output_type": "error",
     "traceback": [
      "\u001b[1;31m---------------------------------------------------------------------------\u001b[0m",
      "\u001b[1;31mTypeError\u001b[0m                                 Traceback (most recent call last)",
      "\u001b[1;32m<ipython-input-97-3a1385a3a35a>\u001b[0m in \u001b[0;36m<module>\u001b[1;34m\u001b[0m\n\u001b[0;32m      1\u001b[0m \u001b[1;31m# reset datetime format\u001b[0m\u001b[1;33m\u001b[0m\u001b[1;33m\u001b[0m\u001b[1;33m\u001b[0m\u001b[0m\n\u001b[1;32m----> 2\u001b[1;33m \u001b[0mdf\u001b[0m\u001b[1;33m[\u001b[0m\u001b[1;34m'time_stamp'\u001b[0m\u001b[1;33m]\u001b[0m \u001b[1;33m=\u001b[0m \u001b[0mdf\u001b[0m\u001b[1;33m[\u001b[0m\u001b[1;34m'time_stamp'\u001b[0m\u001b[1;33m]\u001b[0m\u001b[1;33m.\u001b[0m\u001b[0mapply\u001b[0m\u001b[1;33m(\u001b[0m\u001b[0mdatetime\u001b[0m\u001b[1;33m.\u001b[0m\u001b[0mfromtimestamp\u001b[0m\u001b[1;33m)\u001b[0m\u001b[1;33m\u001b[0m\u001b[1;33m\u001b[0m\u001b[0m\n\u001b[0m\u001b[0;32m      3\u001b[0m \u001b[0mdf\u001b[0m\u001b[1;33m.\u001b[0m\u001b[0minfo\u001b[0m\u001b[1;33m(\u001b[0m\u001b[1;33m)\u001b[0m\u001b[1;33m\u001b[0m\u001b[1;33m\u001b[0m\u001b[0m\n",
      "\u001b[1;32mD:\\Toolsets\\Anaconda3\\lib\\site-packages\\pandas\\core\\series.py\u001b[0m in \u001b[0;36mapply\u001b[1;34m(self, func, convert_dtype, args, **kwds)\u001b[0m\n\u001b[0;32m   3846\u001b[0m             \u001b[1;32melse\u001b[0m\u001b[1;33m:\u001b[0m\u001b[1;33m\u001b[0m\u001b[1;33m\u001b[0m\u001b[0m\n\u001b[0;32m   3847\u001b[0m                 \u001b[0mvalues\u001b[0m \u001b[1;33m=\u001b[0m \u001b[0mself\u001b[0m\u001b[1;33m.\u001b[0m\u001b[0mastype\u001b[0m\u001b[1;33m(\u001b[0m\u001b[0mobject\u001b[0m\u001b[1;33m)\u001b[0m\u001b[1;33m.\u001b[0m\u001b[0mvalues\u001b[0m\u001b[1;33m\u001b[0m\u001b[1;33m\u001b[0m\u001b[0m\n\u001b[1;32m-> 3848\u001b[1;33m                 \u001b[0mmapped\u001b[0m \u001b[1;33m=\u001b[0m \u001b[0mlib\u001b[0m\u001b[1;33m.\u001b[0m\u001b[0mmap_infer\u001b[0m\u001b[1;33m(\u001b[0m\u001b[0mvalues\u001b[0m\u001b[1;33m,\u001b[0m \u001b[0mf\u001b[0m\u001b[1;33m,\u001b[0m \u001b[0mconvert\u001b[0m\u001b[1;33m=\u001b[0m\u001b[0mconvert_dtype\u001b[0m\u001b[1;33m)\u001b[0m\u001b[1;33m\u001b[0m\u001b[1;33m\u001b[0m\u001b[0m\n\u001b[0m\u001b[0;32m   3849\u001b[0m \u001b[1;33m\u001b[0m\u001b[0m\n\u001b[0;32m   3850\u001b[0m         \u001b[1;32mif\u001b[0m \u001b[0mlen\u001b[0m\u001b[1;33m(\u001b[0m\u001b[0mmapped\u001b[0m\u001b[1;33m)\u001b[0m \u001b[1;32mand\u001b[0m \u001b[0misinstance\u001b[0m\u001b[1;33m(\u001b[0m\u001b[0mmapped\u001b[0m\u001b[1;33m[\u001b[0m\u001b[1;36m0\u001b[0m\u001b[1;33m]\u001b[0m\u001b[1;33m,\u001b[0m \u001b[0mSeries\u001b[0m\u001b[1;33m)\u001b[0m\u001b[1;33m:\u001b[0m\u001b[1;33m\u001b[0m\u001b[1;33m\u001b[0m\u001b[0m\n",
      "\u001b[1;32mpandas\\_libs\\lib.pyx\u001b[0m in \u001b[0;36mpandas._libs.lib.map_infer\u001b[1;34m()\u001b[0m\n",
      "\u001b[1;31mTypeError\u001b[0m: an integer is required (got type Timestamp)"
     ]
    }
   ],
   "source": [
    "# reset datetime format\n",
    "df['time_stamp'] = df['time_stamp'].apply(datetime.fromtimestamp)\n",
    "df.info()"
   ]
  },
  {
   "cell_type": "code",
   "execution_count": 100,
   "metadata": {},
   "outputs": [
    {
     "data": {
      "text/html": [
       "<div>\n",
       "<style scoped>\n",
       "    .dataframe tbody tr th:only-of-type {\n",
       "        vertical-align: middle;\n",
       "    }\n",
       "\n",
       "    .dataframe tbody tr th {\n",
       "        vertical-align: top;\n",
       "    }\n",
       "\n",
       "    .dataframe thead th {\n",
       "        text-align: right;\n",
       "    }\n",
       "</style>\n",
       "<table border=\"1\" class=\"dataframe\">\n",
       "  <thead>\n",
       "    <tr style=\"text-align: right;\">\n",
       "      <th></th>\n",
       "      <th>pair</th>\n",
       "      <th>price</th>\n",
       "      <th>amount</th>\n",
       "      <th>time_stamp</th>\n",
       "    </tr>\n",
       "  </thead>\n",
       "  <tbody>\n",
       "    <tr>\n",
       "      <th>1</th>\n",
       "      <td>iehx-eth-usd</td>\n",
       "      <td>742.272462</td>\n",
       "      <td>0.000</td>\n",
       "      <td>2017-12-31 19:00:00</td>\n",
       "    </tr>\n",
       "    <tr>\n",
       "      <th>5</th>\n",
       "      <td>iehx-eth-usd</td>\n",
       "      <td>742.340138</td>\n",
       "      <td>0.000</td>\n",
       "      <td>2017-12-31 19:00:01</td>\n",
       "    </tr>\n",
       "    <tr>\n",
       "      <th>4</th>\n",
       "      <td>stmp-eth-usd</td>\n",
       "      <td>743.500000</td>\n",
       "      <td>10.000</td>\n",
       "      <td>2017-12-31 19:00:01</td>\n",
       "    </tr>\n",
       "    <tr>\n",
       "      <th>22</th>\n",
       "      <td>iehx-eth-usd</td>\n",
       "      <td>742.458327</td>\n",
       "      <td>0.000</td>\n",
       "      <td>2017-12-31 19:00:02</td>\n",
       "    </tr>\n",
       "    <tr>\n",
       "      <th>15</th>\n",
       "      <td>gmni-eth-usd</td>\n",
       "      <td>739.470000</td>\n",
       "      <td>0.001</td>\n",
       "      <td>2017-12-31 19:00:02</td>\n",
       "    </tr>\n",
       "  </tbody>\n",
       "</table>\n",
       "</div>"
      ],
      "text/plain": [
       "            pair       price  amount          time_stamp\n",
       "1   iehx-eth-usd  742.272462   0.000 2017-12-31 19:00:00\n",
       "5   iehx-eth-usd  742.340138   0.000 2017-12-31 19:00:01\n",
       "4   stmp-eth-usd  743.500000  10.000 2017-12-31 19:00:01\n",
       "22  iehx-eth-usd  742.458327   0.000 2017-12-31 19:00:02\n",
       "15  gmni-eth-usd  739.470000   0.001 2017-12-31 19:00:02"
      ]
     },
     "execution_count": 100,
     "metadata": {},
     "output_type": "execute_result"
    }
   ],
   "source": [
    "df.sort_values(by=['time_stamp'],inplace=True)\n",
    "df.head()"
   ]
  },
  {
   "cell_type": "code",
   "execution_count": 39,
   "metadata": {},
   "outputs": [
    {
     "data": {
      "text/html": [
       "<div>\n",
       "<style scoped>\n",
       "    .dataframe tbody tr th:only-of-type {\n",
       "        vertical-align: middle;\n",
       "    }\n",
       "\n",
       "    .dataframe tbody tr th {\n",
       "        vertical-align: top;\n",
       "    }\n",
       "\n",
       "    .dataframe thead th {\n",
       "        text-align: right;\n",
       "    }\n",
       "</style>\n",
       "<table border=\"1\" class=\"dataframe\">\n",
       "  <thead>\n",
       "    <tr style=\"text-align: right;\">\n",
       "      <th></th>\n",
       "      <th>price</th>\n",
       "      <th>amount</th>\n",
       "    </tr>\n",
       "  </thead>\n",
       "  <tbody>\n",
       "    <tr>\n",
       "      <th>count</th>\n",
       "      <td>30000.000000</td>\n",
       "      <td>30000.000000</td>\n",
       "    </tr>\n",
       "    <tr>\n",
       "      <th>mean</th>\n",
       "      <td>731.525372</td>\n",
       "      <td>1.159317</td>\n",
       "    </tr>\n",
       "    <tr>\n",
       "      <th>std</th>\n",
       "      <td>5.080026</td>\n",
       "      <td>4.952772</td>\n",
       "    </tr>\n",
       "    <tr>\n",
       "      <th>min</th>\n",
       "      <td>717.940000</td>\n",
       "      <td>0.000000</td>\n",
       "    </tr>\n",
       "    <tr>\n",
       "      <th>25%</th>\n",
       "      <td>727.873590</td>\n",
       "      <td>0.000000</td>\n",
       "    </tr>\n",
       "    <tr>\n",
       "      <th>50%</th>\n",
       "      <td>730.600000</td>\n",
       "      <td>0.022662</td>\n",
       "    </tr>\n",
       "    <tr>\n",
       "      <th>75%</th>\n",
       "      <td>735.568896</td>\n",
       "      <td>0.647243</td>\n",
       "    </tr>\n",
       "    <tr>\n",
       "      <th>max</th>\n",
       "      <td>746.000000</td>\n",
       "      <td>171.349783</td>\n",
       "    </tr>\n",
       "  </tbody>\n",
       "</table>\n",
       "</div>"
      ],
      "text/plain": [
       "              price        amount\n",
       "count  30000.000000  30000.000000\n",
       "mean     731.525372      1.159317\n",
       "std        5.080026      4.952772\n",
       "min      717.940000      0.000000\n",
       "25%      727.873590      0.000000\n",
       "50%      730.600000      0.022662\n",
       "75%      735.568896      0.647243\n",
       "max      746.000000    171.349783"
      ]
     },
     "execution_count": 39,
     "metadata": {},
     "output_type": "execute_result"
    }
   ],
   "source": [
    "df.describe()"
   ]
  },
  {
   "cell_type": "code",
   "execution_count": 48,
   "metadata": {},
   "outputs": [
    {
     "data": {
      "image/png": "[encoded data removed]",
      "text/plain": [
       "<Figure size 432x288 with 1 Axes>"
      ]
     },
     "metadata": {
      "needs_background": "light"
     },
     "output_type": "display_data"
    }
   ],
   "source": [
    "df['PctChange'] = df['price'].diff().pct_change()\n",
    "plt.plot(df['PctChange'], '--', linewidth=2)\n",
    "plt.title('3.5 hour change')\n",
    "plt.xlabel('Date Index')\n",
    "plt.ylabel('Percent Change (%)')\n",
    "plt.show()"
   ]
  },
  {
   "cell_type": "code",
   "execution_count": 32,
   "metadata": {},
   "outputs": [],
   "source": [
    "N = 18 # 计算最新斜率 slope，拟合度 r2 参考最近 N 天\n",
    "M = 600 # 计算最新标准分 zscore，rsrs_score 参考最近 M 天\n",
    "score_threshold = 0.7 # rsrs 标准分指标阈值\n",
    "# ma 择时参数\n",
    "mean_day = 20 # 计算结束 ma 收盘价，参考最近 mean_day\n",
    "mean_diff_day = 3 # 计算初始 ma 收盘价，参考(mean_day + mean_diff_day)天前，窗口为 mean_diff_day 的一段时间"
   ]
  },
  {
   "cell_type": "code",
   "execution_count": 37,
   "metadata": {},
   "outputs": [
    {
     "data": {
      "image/png": "[encoded data removed]",
      "text/plain": [
       "<Figure size 432x288 with 1 Axes>"
      ]
     },
     "metadata": {
      "needs_background": "light"
     },
     "output_type": "display_data"
    }
   ],
   "source": [
    "plt.plot(df['time_stamp'],df['price'])\n",
    "plt.show()"
   ]
  },
  {
   "cell_type": "markdown",
   "metadata": {},
   "source": [
    "## 重新设置index，只留下时间和价格"
   ]
  },
  {
   "cell_type": "code",
   "execution_count": 101,
   "metadata": {},
   "outputs": [
    {
     "data": {
      "text/html": [
       "<div>\n",
       "<style scoped>\n",
       "    .dataframe tbody tr th:only-of-type {\n",
       "        vertical-align: middle;\n",
       "    }\n",
       "\n",
       "    .dataframe tbody tr th {\n",
       "        vertical-align: top;\n",
       "    }\n",
       "\n",
       "    .dataframe thead th {\n",
       "        text-align: right;\n",
       "    }\n",
       "</style>\n",
       "<table border=\"1\" class=\"dataframe\">\n",
       "  <thead>\n",
       "    <tr style=\"text-align: right;\">\n",
       "      <th></th>\n",
       "      <th>price</th>\n",
       "    </tr>\n",
       "    <tr>\n",
       "      <th>time_stamp</th>\n",
       "      <th></th>\n",
       "    </tr>\n",
       "  </thead>\n",
       "  <tbody>\n",
       "    <tr>\n",
       "      <th>2017-12-31 19:00:00.000</th>\n",
       "      <td>742.272462</td>\n",
       "    </tr>\n",
       "    <tr>\n",
       "      <th>2017-12-31 19:00:01.000</th>\n",
       "      <td>742.920069</td>\n",
       "    </tr>\n",
       "    <tr>\n",
       "      <th>2017-12-31 19:00:02.000</th>\n",
       "      <td>740.964164</td>\n",
       "    </tr>\n",
       "    <tr>\n",
       "      <th>2017-12-31 19:00:02.379</th>\n",
       "      <td>741.240000</td>\n",
       "    </tr>\n",
       "    <tr>\n",
       "      <th>2017-12-31 19:00:03.000</th>\n",
       "      <td>742.663955</td>\n",
       "    </tr>\n",
       "  </tbody>\n",
       "</table>\n",
       "</div>"
      ],
      "text/plain": [
       "                              price\n",
       "time_stamp                         \n",
       "2017-12-31 19:00:00.000  742.272462\n",
       "2017-12-31 19:00:01.000  742.920069\n",
       "2017-12-31 19:00:02.000  740.964164\n",
       "2017-12-31 19:00:02.379  741.240000\n",
       "2017-12-31 19:00:03.000  742.663955"
      ]
     },
     "execution_count": 101,
     "metadata": {},
     "output_type": "execute_result"
    }
   ],
   "source": [
    "history_price = pd.DataFrame(df.groupby(['time_stamp']).price.mean())\n",
    "history_price.head()"
   ]
  },
  {
   "cell_type": "code",
   "execution_count": 61,
   "metadata": {},
   "outputs": [],
   "source": [
    "# 选择聚合的时间跨度\n",
    "time_span = '10T'"
   ]
  },
  {
   "cell_type": "code",
   "execution_count": 122,
   "metadata": {},
   "outputs": [],
   "source": [
    "start = df['time_stamp'].iloc[0].strftime('%Y-%m-%d %H:%M:%S')\n",
    "end = df['time_stamp'].iloc[-1].strftime('%Y-%m-%d %H:%M:%S')\n",
    "index = pd.date_range(start, end, freq=time_span)"
   ]
  },
  {
   "cell_type": "code",
   "execution_count": 123,
   "metadata": {},
   "outputs": [
    {
     "data": {
      "text/html": [
       "<div>\n",
       "<style scoped>\n",
       "    .dataframe tbody tr th:only-of-type {\n",
       "        vertical-align: middle;\n",
       "    }\n",
       "\n",
       "    .dataframe tbody tr th {\n",
       "        vertical-align: top;\n",
       "    }\n",
       "\n",
       "    .dataframe thead th {\n",
       "        text-align: right;\n",
       "    }\n",
       "</style>\n",
       "<table border=\"1\" class=\"dataframe\">\n",
       "  <thead>\n",
       "    <tr style=\"text-align: right;\">\n",
       "      <th></th>\n",
       "      <th>mean_price</th>\n",
       "      <th>min_price</th>\n",
       "      <th>max_price</th>\n",
       "    </tr>\n",
       "  </thead>\n",
       "  <tbody>\n",
       "    <tr>\n",
       "      <th>2017-12-31 19:00:00</th>\n",
       "      <td>739.337923</td>\n",
       "      <td>732.264535</td>\n",
       "      <td>746.00</td>\n",
       "    </tr>\n",
       "    <tr>\n",
       "      <th>2017-12-31 19:10:00</th>\n",
       "      <td>737.486161</td>\n",
       "      <td>729.949027</td>\n",
       "      <td>745.32</td>\n",
       "    </tr>\n",
       "    <tr>\n",
       "      <th>2017-12-31 19:20:00</th>\n",
       "      <td>736.453282</td>\n",
       "      <td>727.042308</td>\n",
       "      <td>744.16</td>\n",
       "    </tr>\n",
       "    <tr>\n",
       "      <th>2017-12-31 19:30:00</th>\n",
       "      <td>735.683226</td>\n",
       "      <td>728.656970</td>\n",
       "      <td>742.94</td>\n",
       "    </tr>\n",
       "    <tr>\n",
       "      <th>2017-12-31 19:40:00</th>\n",
       "      <td>734.582817</td>\n",
       "      <td>728.689437</td>\n",
       "      <td>739.08</td>\n",
       "    </tr>\n",
       "  </tbody>\n",
       "</table>\n",
       "</div>"
      ],
      "text/plain": [
       "                     mean_price   min_price  max_price\n",
       "2017-12-31 19:00:00  739.337923  732.264535     746.00\n",
       "2017-12-31 19:10:00  737.486161  729.949027     745.32\n",
       "2017-12-31 19:20:00  736.453282  727.042308     744.16\n",
       "2017-12-31 19:30:00  735.683226  728.656970     742.94\n",
       "2017-12-31 19:40:00  734.582817  728.689437     739.08"
      ]
     },
     "execution_count": 123,
     "metadata": {},
     "output_type": "execute_result"
    }
   ],
   "source": [
    "get_price = pd.DataFrame(index = index)\n",
    "get_price['mean_price'] = history_price.resample(time_span).mean()\n",
    "get_price['min_price'] = history_price.resample(time_span).min()\n",
    "get_price['max_price'] = history_price.resample(time_span).max()\n",
    "get_price.head()"
   ]
  },
  {
   "cell_type": "code",
   "execution_count": 94,
   "metadata": {},
   "outputs": [
    {
     "data": {
      "image/png": "[encoded data removed]",
      "text/plain": [
       "<Figure size 432x288 with 1 Axes>"
      ]
     },
     "metadata": {
      "needs_background": "light"
     },
     "output_type": "display_data"
    }
   ],
   "source": [
    "plt.plot(get_price['mean_price'])\n",
    "plt.show()"
   ]
  },
  {
   "cell_type": "code",
   "execution_count": 124,
   "metadata": {},
   "outputs": [
    {
     "data": {
      "text/plain": [
       "(52560, 3)"
      ]
     },
     "execution_count": 124,
     "metadata": {},
     "output_type": "execute_result"
    }
   ],
   "source": [
    "get_price.shape"
   ]
  },
  {
   "cell_type": "code",
   "execution_count": 125,
   "metadata": {},
   "outputs": [],
   "source": [
    "# export the data\n",
    "get_price.to_csv(\"D:\\My_Study\\\\University\\\\Uconn\\MSBAPM Virtual Crypto Hackathon 2022\\coderepo\\eth_2018_price.csv\")"
   ]
  },
  {
   "cell_type": "code",
   "execution_count": 126,
   "metadata": {},
   "outputs": [
    {
     "data": {
      "image/png": "[encoded data removed]",
      "text/plain": [
       "<Figure size 432x288 with 1 Axes>"
      ]
     },
     "metadata": {
      "needs_background": "light"
     },
     "output_type": "display_data"
    }
   ],
   "source": [
    "plt.plot(get_price['mean_price'])\n",
    "plt.show()"
   ]
  },
  {
   "cell_type": "markdown",
   "metadata": {},
   "source": [
    "# Getting started here"
   ]
  }
 ],
 "metadata": {
  "kernelspec": {
   "display_name": "Python 3",
   "language": "python",
   "name": "python3"
  },
  "language_info": {
   "codemirror_mode": {
    "name": "ipython",
    "version": 3
   },
   "file_extension": ".py",
   "mimetype": "text/x-python",
   "name": "python",
   "nbconvert_exporter": "python",
   "pygments_lexer": "ipython3",
   "version": "3.7.6"
  }
 },
 "nbformat": 4,
 "nbformat_minor": 4
}
